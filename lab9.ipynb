{
 "cells": [
  {
   "cell_type": "markdown",
   "metadata": {},
   "source": [
    "# [Лабораторная работа #9](https://www.geeksforgeeks.org/stable-marriage-problem/)"
   ]
  },
  {
   "cell_type": "markdown",
   "metadata": {},
   "source": [
    "В компании есть N сотрудников и M задач для исполнения. У каждого сотрудника x есть список заинтересованности N(x) в работе над задачами, которые он умеет выполнять (в порядке убывания интереса). Для каждой задачи y известен список эффективности сотрудников S(y), умеющих выполнять эту задачу (в порядке убывания эффективности). Над каждой задачей может работать не более одного сотрудника, и каждый сотрудник может работать над не более чем одной задачей.  Провести 2 разных распределения максимального числа задач по сотрудникам в компании в соответствии с принципами:\n",
    "\n",
    "* Сотрудник x мог быть назначен выполнять задачу t, только если все более интересные для него задачи были назначены для выполнения другим, более эффективным для их выполнения сотрудникам, чем x.\n",
    "* Задача t назначена сотруднику x, только если все более эффективные для выполнения задачи t сотрудники, были назначены на другие более интересные для них задачи.\n"
   ]
  },
  {
   "cell_type": "code",
   "execution_count": 2,
   "metadata": {},
   "outputs": [],
   "source": [
    "def can_another_worker_solve_task_more_efficient(task_preference_matrix, task, new_worker, current_worker):\n",
    "    for i in range(len(task_preference_matrix[0])):\n",
    "        \n",
    "        if task_preference_matrix[task][i] == current_worker:\n",
    "            return False\n",
    "        if task_preference_matrix[task][i] == new_worker:\n",
    "            return True\n"
   ]
  },
  {
   "cell_type": "code",
   "execution_count": 3,
   "metadata": {},
   "outputs": [],
   "source": [
    "def distribute_tasks(workers_preference, tasks_preference):\n",
    "    # task_solvers[i] indicates the worker who will solve the task number N+i\n",
    "    # The value None indicates\n",
    "    # that i'th task has no solvers\n",
    "    task_solvers = [None for _ in range(len(tasks_preference))]\n",
    "\n",
    "    # If free_workers[i] is true, then worker 'i' is free,\n",
    "    # otherwise busy.\n",
    "    free_workers = [True for _ in range(len(workers_preference))]\n",
    "\n",
    "    free_workers_count = len(workers_preference)\n",
    "    while free_workers_count and None in task_solvers:\n",
    "        worker_index = 0\n",
    "        while worker_index < len(free_workers):\n",
    "            if free_workers[worker_index]:\n",
    "                break\n",
    "            worker_index += 1\n",
    "\n",
    "        # select tasks according to worker's preferences\n",
    "        i = 0\n",
    "        while i < len(task_solvers) and free_workers[worker_index]:\n",
    "            task_index = workers_preference[worker_index][i]\n",
    "\n",
    "            if task_solvers[task_index] is None:\n",
    "                task_solvers[task_index] = worker_index\n",
    "                free_workers[worker_index] = False\n",
    "                free_workers_count -= 1\n",
    "\n",
    "            else:\n",
    "\n",
    "                # current task solver:\n",
    "                current_solver_index = task_solvers[task_index]\n",
    "\n",
    "                if (can_another_worker_solve_task_more_efficient(tasks_preference, task_index, worker_index,\n",
    "                                                                 current_solver_index)):\n",
    "                    task_solvers[task_index] = worker_index\n",
    "                    free_workers[worker_index] = False\n",
    "                    free_workers[current_solver_index] = True\n",
    "            i += 1\n",
    "            \n",
    "    result = [(i, task_solvers[i]) for i in range(len(tasks_preference))]\n",
    "    return result\n"
   ]
  },
  {
   "cell_type": "code",
   "execution_count": 4,
   "metadata": {},
   "outputs": [],
   "source": [
    "def distribute_tasks_effective_tasks_solving_case(workers_preference, tasks_preference):\n",
    "    return distribute_tasks(workers_preference, tasks_preference)\n"
   ]
  },
  {
   "cell_type": "code",
   "execution_count": 5,
   "metadata": {},
   "outputs": [],
   "source": [
    "def distribute_tasks_effective_workers_interest_case(workers_preference, tasks_preference):\n",
    "    return distribute_tasks(tasks_preference, workers_preference)\n"
   ]
  },
  {
   "cell_type": "code",
   "execution_count": 11,
   "metadata": {},
   "outputs": [
    {
     "name": "stderr",
     "output_type": "stream",
     "text": [
      "test_task_distributing_with_equal_num_workers_and_tasks (__main__.TestStableMarriageProblemeSolvingAlgorithm) ... ok\n",
      "test_task_distributing_with_unequal_num_workers_and_tasks (__main__.TestStableMarriageProblemeSolvingAlgorithm) ... ok\n",
      "\n",
      "----------------------------------------------------------------------\n",
      "Ran 2 tests in 0.003s\n",
      "\n",
      "OK\n"
     ]
    },
    {
     "data": {
      "text/plain": [
       "<unittest.main.TestProgram at 0x27126ac5d88>"
      ]
     },
     "execution_count": 11,
     "metadata": {},
     "output_type": "execute_result"
    }
   ],
   "source": [
    "import unittest\n",
    "\n",
    "\n",
    "class TestStableMarriageProblemeSolvingAlgorithm(unittest.TestCase):\n",
    "    \n",
    "    def test_task_distributing_with_equal_num_workers_and_tasks(self):\n",
    "        workers_preference_matrix = [[1, 0, 2, 3], [3, 0, 1, 2],  [0, 2, 1, 3],  [1, 2, 0, 3]]\n",
    "        tasks_preference_matrix = [[0, 2, 1, 3], [2, 3, 0, 1], [3, 1, 2, 0], [2, 1, 0, 3]]\n",
    "        self.assertEqual(\n",
    "            distribute_tasks_effective_tasks_solving_case(workers_preference_matrix, tasks_preference_matrix),\n",
    "            [(0, 0), (1, 3), (2, 2), (3, 1)]\n",
    "        )\n",
    "        self.assertEqual(\n",
    "            distribute_tasks_effective_workers_interest_case(workers_preference_matrix, tasks_preference_matrix),\n",
    "            [(0, 0), (1, 3), (2, 1), (3, 2)]\n",
    "        )\n",
    "        \n",
    "    def test_task_distributing_with_unequal_num_workers_and_tasks(self):\n",
    "        workers_preference_matrix = [[0, 2, 1],[1, 0, 2]]\n",
    "        tasks_preference_matrix = [[1, 0], [0, 1], [0, 1]]\n",
    "        self.assertEqual(\n",
    "            distribute_tasks_effective_tasks_solving_case(workers_preference_matrix, tasks_preference_matrix),\n",
    "            [(0, 0), (1, 1), (2, None)]\n",
    "        )\n",
    "        self.assertEqual(\n",
    "            distribute_tasks_effective_workers_interest_case(workers_preference_matrix, tasks_preference_matrix),\n",
    "            [(0, 1), (1, 0)]\n",
    "        )\n",
    "        \n",
    "\n",
    "\n",
    "unittest.main(argv=[''], verbosity=2, exit=False)\n"
   ]
  },
  {
   "cell_type": "code",
   "execution_count": 12,
   "metadata": {},
   "outputs": [
    {
     "name": "stdout",
     "output_type": "stream",
     "text": [
      "task #0 — worker #2\n",
      "task #1 — worker #1\n",
      "task #2 — worker #3\n",
      "task #3 — worker #0\n",
      "===================\n",
      "task #0 — worker #3\n",
      "task #1 — worker #1\n",
      "task #2 — worker #0\n",
      "task #3 — worker #2\n"
     ]
    }
   ],
   "source": [
    "workers_preference_matrix = [\n",
    "    [3, 1, 2, 0],\n",
    "    [1, 0, 2, 3],\n",
    "    [0, 1, 2, 3],\n",
    "    [0, 1, 2, 3],\n",
    "]\n",
    "\n",
    "tasks_preference_matrix = [\n",
    "    [0, 1, 2, 3],\n",
    "    [0, 1, 2, 3],\n",
    "    [0, 1, 2, 3],\n",
    "    [0, 1, 2, 3]\n",
    "]\n",
    "\n",
    "\n",
    "result = distribute_tasks_effective_tasks_solving_case(workers_preference_matrix, tasks_preference_matrix)\n",
    "for pair in result:\n",
    "    print(f'task #{pair[0]} — worker #{pair[1]}')\n",
    "print('===================')\n",
    "result = distribute_tasks_effective_workers_interest_case(workers_preference_matrix, tasks_preference_matrix)\n",
    "for pair in result:\n",
    "    print(f'task #{pair[0]} — worker #{pair[1]}')"
   ]
  }
 ],
 "metadata": {
  "kernelspec": {
   "display_name": "Python 3",
   "language": "python",
   "name": "python3"
  },
  "language_info": {
   "codemirror_mode": {
    "name": "ipython",
    "version": 3
   },
   "file_extension": ".py",
   "mimetype": "text/x-python",
   "name": "python",
   "nbconvert_exporter": "python",
   "pygments_lexer": "ipython3",
   "version": "3.7.4"
  }
 },
 "nbformat": 4,
 "nbformat_minor": 4
}
