{
 "cells": [
  {
   "cell_type": "markdown",
   "metadata": {},
   "source": [
    "# [Лабораторная работа #8](https://ipc.susu.ru/1259-5.html)"
   ]
  },
  {
   "cell_type": "markdown",
   "metadata": {},
   "source": [
    " Есть K сотрудников и K задач. Для каждого сотрудника i определены задачи N(i), которые он умеет выполнять. Назначить задачи сотрудникам, так чтобы каждый сотрудник работал только над одной задачей, и все задачи были выполнены. В случае невозможности такого назначения, указать, какого сотрудника необходимо обучить какой задаче для возможности искомого назначения.\n"
   ]
  },
  {
   "cell_type": "code",
   "execution_count": 18,
   "metadata": {},
   "outputs": [],
   "source": [
    "def try_set_edge(vertex: int) -> bool:\n",
    "    if used_vertices[vertex]:\n",
    "        return False\n",
    "    used_vertices[vertex] = True\n",
    "    for i in range(0, part_size):\n",
    "        if adjacency_matrix[vertex][i] and (right_part[i] == -1 or try_set_edge(right_part[i])):\n",
    "            left_part[vertex] = i\n",
    "            right_part[i] = vertex\n",
    "            return True\n",
    "    return False\n",
    "\n",
    "\n",
    "def find_match(left_part, right_part, part_size) -> int:\n",
    "    matching_count = 0\n",
    "    for i in range(0, part_size):\n",
    "        for j in range(0, part_size):\n",
    "            used_vertices[j]=0\n",
    "        if try_set_edge(i):\n",
    "            matching_count += 1\n",
    "    \n",
    "    while matching_count < part_size:\n",
    "        left_free_index = left_part.index(-1)\n",
    "        right_free_index = right_part.index(-1)\n",
    "        \n",
    "        left_part[left_free_index] = right_free_index\n",
    "        right_part[right_free_index] = left_free_index\n",
    "        \n",
    "        matching_count += 1\n",
    "    \n",
    "    return matching_count\n"
   ]
  },
  {
   "cell_type": "code",
   "execution_count": 20,
   "metadata": {},
   "outputs": [],
   "source": [
    "adjacency_matrix = [\n",
    "    [1, 1, 1, 0, 0],\n",
    "    [0, 0, 1, 1, 0],\n",
    "    [0, 1, 0, 0, 0],\n",
    "    [0, 0, 1, 0, 0],\n",
    "    [0, 0, 0, 0, 0]\n",
    "]\n",
    "\n",
    "part_size = len(adjacency_matrix)\n",
    "left_part = [-1 for _ in range(part_size)]\n",
    "right_part = [-1 for _ in range(part_size)]\n",
    "used_vertices = [None for _ in range(part_size)]"
   ]
  },
  {
   "cell_type": "code",
   "execution_count": 21,
   "metadata": {},
   "outputs": [
    {
     "data": {
      "text/plain": [
       "5"
      ]
     },
     "execution_count": 21,
     "metadata": {},
     "output_type": "execute_result"
    }
   ],
   "source": [
    "find_match(left_part, right_part, part_size)"
   ]
  },
  {
   "cell_type": "code",
   "execution_count": 27,
   "metadata": {},
   "outputs": [],
   "source": [
    "def display_result(left_part):\n",
    "    print('worker:\\ttask:\\t')\n",
    "    for index, adjacent_vertex in enumerate(left_part):\n",
    "        print(f'{index}\\t{adjacent_vertex}')"
   ]
  },
  {
   "cell_type": "code",
   "execution_count": 29,
   "metadata": {},
   "outputs": [
    {
     "name": "stdout",
     "output_type": "stream",
     "text": [
      "worker:\ttask:\t\n",
      "0\t0\n",
      "1\t3\n",
      "2\t1\n",
      "3\t2\n",
      "4\t4\n"
     ]
    }
   ],
   "source": [
    "display_result(left_part)"
   ]
  },
  {
   "cell_type": "code",
   "execution_count": 34,
   "metadata": {},
   "outputs": [
    {
     "name": "stdout",
     "output_type": "stream",
     "text": [
      "worker:\ttask:\t\n",
      "0\t1\n",
      "1\t0\n"
     ]
    }
   ],
   "source": [
    "adjacency_matrix = [\n",
    "    [0, 1],\n",
    "    [1, 0]\n",
    "]\n",
    "\n",
    "part_size = len(adjacency_matrix)\n",
    "left_part = [-1 for _ in range(part_size)]\n",
    "right_part = [-1 for _ in range(part_size)]\n",
    "used_vertices = [None for _ in range(part_size)]\n",
    "find_match(left_part, right_part, part_size)\n",
    "display_result(left_part)"
   ]
  },
  {
   "cell_type": "markdown",
   "metadata": {},
   "source": [
    "  "
   ]
  },
  {
   "cell_type": "code",
   "execution_count": 35,
   "metadata": {},
   "outputs": [
    {
     "name": "stdout",
     "output_type": "stream",
     "text": [
      "worker:\ttask:\t\n",
      "0\t2\n",
      "1\t1\n",
      "2\t0\n",
      "3\t3\n"
     ]
    }
   ],
   "source": [
    "adjacency_matrix = [\n",
    "    [1, 1, 1, 0],\n",
    "    [1, 1, 1, 0],\n",
    "    [1, 1, 1, 1],\n",
    "    [0, 0, 0, 1]\n",
    "]\n",
    "\n",
    "part_size = len(adjacency_matrix)\n",
    "left_part = [-1 for _ in range(part_size)]\n",
    "right_part = [-1 for _ in range(part_size)]\n",
    "used_vertices = [None for _ in range(part_size)]\n",
    "find_match(left_part, right_part, part_size)\n",
    "display_result(left_part)"
   ]
  },
  {
   "cell_type": "code",
   "execution_count": null,
   "metadata": {},
   "outputs": [],
   "source": []
  }
 ],
 "metadata": {
  "kernelspec": {
   "display_name": "Python 3",
   "language": "python",
   "name": "python3"
  },
  "language_info": {
   "codemirror_mode": {
    "name": "ipython",
    "version": 3
   },
   "file_extension": ".py",
   "mimetype": "text/x-python",
   "name": "python",
   "nbconvert_exporter": "python",
   "pygments_lexer": "ipython3",
   "version": "3.7.4"
  }
 },
 "nbformat": 4,
 "nbformat_minor": 4
}
