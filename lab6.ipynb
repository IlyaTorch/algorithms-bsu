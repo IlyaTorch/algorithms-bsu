{
 "cells": [
  {
   "cell_type": "markdown",
   "metadata": {},
   "source": [
    "# Лабораторная работа #6"
   ]
  },
  {
   "cell_type": "markdown",
   "metadata": {},
   "source": [
    "## Задание"
   ]
  },
  {
   "cell_type": "markdown",
   "metadata": {},
   "source": [
    "В городе есть N перекрестков и M дорог (каждая дорога начинается и заканчивается перекрестком, дороги имеют направление). Известно время проезда каждой дороги (время проезда дорог i->j и j->i может быть различным). Определить перекресток для расположения на нем пожарной станции с условием: пожарная машина должна попасть в наиболее удаленный от станции перекресток за минимальное возможное время (пожарная машина может нарушать требования ПДД и ехать по встречному направлению).  Задачу реализовать 2-мя алгоритмами.\n"
   ]
  },
  {
   "cell_type": "code",
   "execution_count": 205,
   "metadata": {},
   "outputs": [],
   "source": [
    "from typing import List, Tuple\n",
    "from collections import namedtuple"
   ]
  },
  {
   "cell_type": "code",
   "execution_count": 206,
   "metadata": {},
   "outputs": [],
   "source": [
    "class Graph:\n",
    "    weights: List[List[float]]\n",
    "    paths: List[List[int]]\n",
    "    distances: List[List[int]]\n",
    "        \n",
    "    def __init__(self, vertices_num):\n",
    "        self.weights = [[float('inf') for _ in range(vertices_num)] for __ in range(vertices_num)]\n",
    "        self.paths = [[_ for _ in range(vertices_num)] for __ in range(vertices_num)]\n",
    "        self.distances = [[1 for _ in range(vertices_num)] for __ in range(vertices_num)]\n",
    "\n",
    "    def get_num_vertices(self) -> int:\n",
    "        return len(self.weights)\n",
    "\n",
    "    def set_weight_between_vertices(self, vertex_1, vertex_2, weight) -> None:\n",
    "        self.weights[vertex_1][vertex_2] = weight\n",
    "    \n",
    "    def get_distance_betwen_vertices(self, vertex_1, vertex_2) -> int:\n",
    "        index_1, index_2 = vertex_1, vertex_2\n",
    "        num_steps = 1\n",
    "        while self.paths[index_1][index_2] != vertex_2:\n",
    "            index_1 = self.paths[index_1][index_2]\n",
    "            num_steps += 1\n",
    "        return num_steps\n",
    "    \n",
    "    def set_distances_between_all_vertices_in_graph(self) -> None:\n",
    "        vertices_num: int = self.get_num_vertices()\n",
    "            \n",
    "        for i in range(vertices_num):\n",
    "            for j in range(vertices_num):\n",
    "                self.distances[i][j] = self.get_distance_betwen_vertices(i, j)\n",
    "                \n",
    "    def find_farthest_vertex_to_the_vertex(self, vertex_index: int) -> int:\n",
    "        vertices_num: int = self.get_num_vertices()\n",
    "        max_distance: int = -float('inf')\n",
    "        farthest_vertex_index: int = vertex_index\n",
    "        for other_vertex_index in range(vertices_num):\n",
    "            if other_vertex_index != vertex_index:\n",
    "                if self.distances[vertex_index][other_vertex_index] > max_distance:\n",
    "                    max_distance = self.distances[vertex_index][other_vertex_index]\n",
    "                    farthest_vertex_index = other_vertex_index\n",
    "                    \n",
    "        return farthest_vertex_index\n",
    "    \n",
    "    def get_weight_between_vertices(self, vertex_index_1: int, vertex_index_2: int) -> float:\n",
    "        return self.weights[vertex_index_1][vertex_index_2]\n",
    "                \n",
    "    def get_neighborhood(self, vertex_index: int):\n",
    "        return [\n",
    "            (adjacent_vertex_index, weight) \n",
    "                for adjacent_vertex_index, weight in enumerate(self.weights[vertex_index])\n",
    "                    if weight != float(\"inf\")\n",
    "        ]\n"
   ]
  },
  {
   "cell_type": "markdown",
   "metadata": {},
   "source": [
    "Алгоритм Флоида:"
   ]
  },
  {
   "cell_type": "code",
   "execution_count": 207,
   "metadata": {},
   "outputs": [],
   "source": [
    "def run_run_floyd(graph: Graph) -> List[List[float]]:\n",
    "    weights: List[List[float]] = graph.weights\n",
    "    vertices_num: int = graph.get_num_vertices()\n",
    "    paths: List[List[int]] = graph.paths\n",
    "\n",
    "    for iteration in range(vertices_num):\n",
    "        for i in range(vertices_num):\n",
    "            for j in range(vertices_num):\n",
    "                if weights[i][iteration] + weights[iteration][j] < weights[i][j]:\n",
    "                    weights[i][j] = weights[i][iteration] + weights[iteration][j]\n",
    "                    paths[i][j] = paths[i][iteration]\n",
    "                    \n",
    "    return weights, paths"
   ]
  },
  {
   "cell_type": "markdown",
   "metadata": {},
   "source": [
    "\"пожарная машина может нарушать требования ПДД и ехать по встречному направлению\""
   ]
  },
  {
   "cell_type": "code",
   "execution_count": 208,
   "metadata": {},
   "outputs": [],
   "source": [
    "def correct_weights(graph: Graph) -> Graph:\n",
    "\n",
    "    for i, _ in enumerate(graph.weights):\n",
    "        for j, _ in enumerate(graph.weights):\n",
    "            if graph.weights[i][j] < graph.weights[j][i]:\n",
    "                graph.weights[j][i] = graph.weights[i][j]\n",
    "                graph.distances[j][i] = graph.distances[i][j]\n",
    "            else:\n",
    "                graph.weights[i][j] = graph.weights[j][i]\n",
    "                graph.distances[i][j] = graph.distances[j][i]\n",
    "\n",
    "    return graph"
   ]
  },
  {
   "cell_type": "markdown",
   "metadata": {},
   "source": [
    "Для всех вершин  — самую дальнюю, и среди них выбираю с наименьшим временем поездки"
   ]
  },
  {
   "cell_type": "code",
   "execution_count": 209,
   "metadata": {},
   "outputs": [],
   "source": [
    "def find_firestation_run_floyd(graph: Graph):\n",
    "    num_of_vertices: int = graph.get_num_vertices()\n",
    "    farthest_vertex = namedtuple('farthest_vertex', 'current_vertex_index farthest_vertex_index travel_time')\n",
    "        \n",
    "    farthest_vertices: List[Tuple[int, int]] = []\n",
    "\n",
    "    for vertex_index in range(num_of_vertices):\n",
    "        farthest_vertices.append(\n",
    "            farthest_vertex(\n",
    "                vertex_index, \n",
    "                graph.find_farthest_vertex_to_the_vertex(vertex_index),\n",
    "                graph.weights[vertex_index][graph.find_farthest_vertex_to_the_vertex(vertex_index)]\n",
    "            )\n",
    "        )\n",
    "    \n",
    "    \n",
    "    return min(farthest_vertices, key=lambda farthest_vertex: farthest_vertex.travel_time)\n"
   ]
  },
  {
   "cell_type": "markdown",
   "metadata": {},
   "source": [
    "## Пример"
   ]
  },
  {
   "cell_type": "code",
   "execution_count": 216,
   "metadata": {},
   "outputs": [],
   "source": [
    "g = Graph(5)\n",
    "g.set_weight_between_vertices(0, 2, 6)\n",
    "g.set_weight_between_vertices(0, 4, 3)\n",
    "g.set_weight_between_vertices(1, 0, 4)\n",
    "g.set_weight_between_vertices(1, 3, 2)\n",
    "g.set_weight_between_vertices(1, 4, 1)\n",
    "g.set_weight_between_vertices(2, 1, 5)\n",
    "g.set_weight_between_vertices(2, 4, 8)\n",
    "g.set_weight_between_vertices(3, 1, -1)\n",
    "g.set_weight_between_vertices(3, 2, 7)\n",
    "g.set_weight_between_vertices(3, 4, -3)\n",
    "g.set_weight_between_vertices(4, 2, 8)\n",
    "g.set_weight_between_vertices(4, 3, 4)"
   ]
  },
  {
   "cell_type": "code",
   "execution_count": 217,
   "metadata": {},
   "outputs": [
    {
     "data": {
      "text/plain": [
       "([[10, 6, 6, 7, 3],\n",
       "  [4, 1, 7, 2, -1],\n",
       "  [9, 5, 12, 7, 4],\n",
       "  [3, -1, 5, 1, -3],\n",
       "  [7, 3, 8, 4, 1]],\n",
       " [[4, 4, 2, 4, 4],\n",
       "  [0, 3, 3, 3, 3],\n",
       "  [1, 1, 1, 1, 1],\n",
       "  [1, 1, 4, 1, 4],\n",
       "  [3, 3, 2, 3, 3]])"
      ]
     },
     "execution_count": 217,
     "metadata": {},
     "output_type": "execute_result"
    }
   ],
   "source": [
    "run_run_floyd(g)"
   ]
  },
  {
   "cell_type": "code",
   "execution_count": 212,
   "metadata": {},
   "outputs": [
    {
     "data": {
      "text/plain": [
       "[[4, 3, 1, 2, 1],\n",
       " [1, 2, 3, 1, 2],\n",
       " [2, 1, 4, 2, 3],\n",
       " [2, 1, 2, 2, 1],\n",
       " [3, 2, 1, 1, 2]]"
      ]
     },
     "execution_count": 212,
     "metadata": {},
     "output_type": "execute_result"
    }
   ],
   "source": [
    "g.set_distances_between_all_vertices_in_graph()\n",
    "g.distances"
   ]
  },
  {
   "cell_type": "code",
   "execution_count": 214,
   "metadata": {},
   "outputs": [
    {
     "data": {
      "text/plain": [
       "<__main__.Graph at 0x21baa686ec8>"
      ]
     },
     "execution_count": 214,
     "metadata": {},
     "output_type": "execute_result"
    }
   ],
   "source": [
    "correct_weights(g)"
   ]
  },
  {
   "cell_type": "code",
   "execution_count": 218,
   "metadata": {},
   "outputs": [
    {
     "data": {
      "text/plain": [
       "farthest_vertex(current_vertex_index=3, farthest_vertex_index=0, travel_time=3)"
      ]
     },
     "execution_count": 218,
     "metadata": {},
     "output_type": "execute_result"
    }
   ],
   "source": [
    "find_firestation_run_floyd(g)"
   ]
  },
  {
   "cell_type": "markdown",
   "metadata": {},
   "source": [
    "         "
   ]
  },
  {
   "cell_type": "markdown",
   "metadata": {},
   "source": [
    "Aлгоритм Дейкстра"
   ]
  },
  {
   "cell_type": "code",
   "execution_count": 103,
   "metadata": {},
   "outputs": [],
   "source": [
    "def run_dijkstra(graph: Graph, start: int) -> List[float]:\n",
    "    distance_from_start_to_other: List[float] = [float('inf') for _ in range(graph.get_num_vertices())]\n",
    "    distance_from_start_to_other[start] = 0\n",
    "    \n",
    "    que: List[Tuple[int, int]] = []\n",
    "    vertex_distance: Tuple[int, int] = namedtuple('vertex_distance', 'vertex distance_to_vertex')\n",
    "    que.append(vertex_distance(start, 0))\n",
    "    \n",
    "    while que:\n",
    "        vertex, distance = que.pop()\n",
    "        \n",
    "        if distance_from_start_to_other[vertex] < distance:\n",
    "            continue\n",
    "               \n",
    "        for adjacent_vertex, adjacent_distance in graph.get_neighborhood(vertex):\n",
    "            new_distance: int = distance + adjacent_distance\n",
    "                \n",
    "            if new_distance < distance_from_start_to_other[adjacent_vertex]:\n",
    "                distance_from_start_to_other[adjacent_vertex] = new_distance\n",
    "                que.append(vertex_distance(adjacent_vertex, new_distance))\n",
    "        \n",
    "    return distance_from_start_to_other"
   ]
  },
  {
   "cell_type": "code",
   "execution_count": 152,
   "metadata": {},
   "outputs": [],
   "source": [
    "def find_firestation_dijkstra(graph: Graph):\n",
    "    num_of_vertices: int = graph.get_num_vertices()\n",
    "    farthest_vertex: Tuple[int, int] = namedtuple (\n",
    "                'farthest_vertex', 'current_vertex_index farthest_vertex_index travel_time'\n",
    "            )\n",
    "        \n",
    "    farthest_vertices: List[Tuple[int, int]] = []\n",
    "\n",
    "    for vertex_index in range(num_of_vertices):\n",
    "        farthest_vertices.append(\n",
    "            farthest_vertex(\n",
    "                vertex_index, \n",
    "                graph.find_farthest_vertex_to_the_vertex(vertex_index),\n",
    "                run_dijkstra(graph, vertex_index)[graph.find_farthest_vertex_to_the_vertex(vertex_index)]\n",
    "            )\n",
    "        )\n",
    "    \n",
    "    return min(farthest_vertices, key=lambda farthest_vertex: farthest_vertex.travel_time)"
   ]
  },
  {
   "cell_type": "markdown",
   "metadata": {},
   "source": [
    "## Пример"
   ]
  },
  {
   "cell_type": "code",
   "execution_count": 106,
   "metadata": {},
   "outputs": [],
   "source": [
    "graph = Graph(5)\n",
    "graph.set_weight_between_vertices(0, 2, 6)\n",
    "graph.set_weight_between_vertices(0, 4, 3)\n",
    "graph.set_weight_between_vertices(1, 0, 4)\n",
    "graph.set_weight_between_vertices(1, 3, 2)\n",
    "graph.set_weight_between_vertices(1, 4, 1)\n",
    "graph.set_weight_between_vertices(2, 1, 5)\n",
    "graph.set_weight_between_vertices(2, 4, 8)\n",
    "graph.set_weight_between_vertices(3, 1, -1)\n",
    "graph.set_weight_between_vertices(3, 2, 7)\n",
    "graph.set_weight_between_vertices(3, 4, -3)\n",
    "graph.set_weight_between_vertices(4, 2, 8)\n",
    "graph.set_weight_between_vertices(4, 3, 4)"
   ]
  },
  {
   "cell_type": "code",
   "execution_count": 153,
   "metadata": {},
   "outputs": [
    {
     "data": {
      "text/plain": [
       "farthest_vertex(current_vertex_index=3, farthest_vertex_index=0, travel_time=3)"
      ]
     },
     "execution_count": 153,
     "metadata": {},
     "output_type": "execute_result"
    }
   ],
   "source": [
    "find_firestation_dijkstra(g)"
   ]
  },
  {
   "cell_type": "markdown",
   "metadata": {},
   "source": [
    "      "
   ]
  },
  {
   "cell_type": "markdown",
   "metadata": {},
   "source": [
    "## Тесты"
   ]
  },
  {
   "cell_type": "code",
   "execution_count": 146,
   "metadata": {},
   "outputs": [],
   "source": [
    "import unittest"
   ]
  },
  {
   "cell_type": "code",
   "execution_count": 203,
   "metadata": {},
   "outputs": [
    {
     "name": "stderr",
     "output_type": "stream",
     "text": [
      "test_find_firestation_dijkstra (__main__.TestGraph) ... ok\n",
      "test_find_firestation_floyd (__main__.TestGraph) ... ok\n",
      "test_run_dijkstra (__main__.TestGraph) ... ok\n",
      "test_run_dijkstra_negative (__main__.TestGraph) ... ok\n",
      "test_run_floyd (__main__.TestGraph) ... ok\n",
      "test_run_floyd_negative (__main__.TestGraph) ... ok\n",
      "\n",
      "----------------------------------------------------------------------\n",
      "Ran 6 tests in 0.031s\n",
      "\n",
      "OK\n"
     ]
    },
    {
     "data": {
      "text/plain": [
       "<unittest.main.TestProgram at 0x21baa96cc88>"
      ]
     },
     "execution_count": 203,
     "metadata": {},
     "output_type": "execute_result"
    }
   ],
   "source": [
    "class TestGraph(unittest.TestCase):\n",
    "    def setUp(self):\n",
    "        self.graph_a = Graph(6)\n",
    "        connectivity_array: List[List[int, int, int]] = [\n",
    "            [0, 1, 7],\n",
    "            [0, 5, 14],\n",
    "            [0, 2, 9],\n",
    "            [2, 5, 2],\n",
    "            [2, 3, 11],\n",
    "            [5, 4, 9],\n",
    "            [3, 4, 6],\n",
    "            [1, 3, 15]\n",
    "        ]   \n",
    "        for component in connectivity_array:\n",
    "            self.graph_a.set_weight_between_vertices(component[0], component[1], component[2])\n",
    "            self.graph_a.set_weight_between_vertices(component[1], component[0], component[2])\n",
    "        self.farthest_vertex: Tuple[int, int] = namedtuple (\n",
    "                'farthest_vertex', 'current_vertex_index farthest_vertex_index travel_time'\n",
    "            )\n",
    "\n",
    "    def test_run_floyd(self):\n",
    "        self.assertEqual(\n",
    "            run_floyd(self.graph_a),\n",
    "            (\n",
    "                [\n",
    "                    [14, 7, 9, 20, 20, 11],\n",
    "                    [7, 14, 16, 15, 21, 18],\n",
    "                    [9, 16, 4, 11, 11, 2],\n",
    "                    [20, 15, 11, 12, 6, 13],\n",
    "                    [20, 21, 11, 6, 12, 9],\n",
    "                    [11, 18, 2, 13, 9, 4]\n",
    "                ],\n",
    "                [\n",
    "                    [1, 1, 2, 2, 2, 2],\n",
    "                    [0, 0, 0, 3, 3, 0],\n",
    "                    [0, 0, 5, 3, 5, 5],\n",
    "                    [2, 1, 2, 4, 4, 2],\n",
    "                    [5, 3, 5, 3, 3, 5],\n",
    "                    [2, 2, 2, 2, 4, 2]\n",
    "                ]\n",
    "            )\n",
    "        )\n",
    "            \n",
    "    def test_run_floyd_negative(self):\n",
    "        self.assertNotEqual(\n",
    "            run_floyd(self.graph_a),\n",
    "            (\n",
    "                [\n",
    "                    [11, 7, 9, 20, 20, 11],\n",
    "                    [7, 14, 16, 15, 21, 18],\n",
    "                    [9, 16, 4, 11, 11, 2],\n",
    "                    [20, 15, 11, 12, 6, 13],\n",
    "                    [20, 21, 11, 6, 12, 9],\n",
    "                    [11, 18, 2, 13, 9, 4]\n",
    "                ],\n",
    "                [\n",
    "                    [1, 1, 2, 2, 2, 2],\n",
    "                    [0, 0, 0, 3, 3, 0],\n",
    "                    [0, 0, 5, 3, 5, 5],\n",
    "                    [2, 1, 2, 4, 4, 2],\n",
    "                    [5, 3, 5, 3, 3, 5],\n",
    "                    [2, 2, 2, 2, 4, 2]\n",
    "                ]\n",
    "            )\n",
    "        )\n",
    "    \n",
    "    def test_run_dijkstra(self):\n",
    "        self.assertEqual(\n",
    "            run_dijkstra(self.graph_a, 0),\n",
    "            [0, 7, 9, 20, 20, 11]\n",
    "        )\n",
    "        self.assertEqual(\n",
    "            run_dijkstra(self.graph_a, 1),\n",
    "            [7, 0, 16, 15, 21, 18]\n",
    "        )\n",
    "        self.assertEqual(\n",
    "            run_dijkstra(self.graph_a, 2),\n",
    "            [9, 16, 0, 11, 11, 2]\n",
    "        )\n",
    "        \n",
    "    def test_run_dijkstra_negative(self):\n",
    "        self.assertNotEqual(\n",
    "            run_dijkstra(self.graph_a, 0),\n",
    "            [0, 6, 9, 20, 20, 11]\n",
    "        )\n",
    "        \n",
    "        \n",
    "    def test_find_firestation_floyd(self):\n",
    "        self.assertEqual(\n",
    "            find_firestation_floyd(self.graph_a),\n",
    "            self.farthest_vertex(0, 1, 7)\n",
    "        )\n",
    "    \n",
    "    def test_find_firestation_dijkstra(self):\n",
    "        self.assertEqual(\n",
    "            find_firestation_dijkstra(self.graph_a),\n",
    "            self.farthest_vertex(0, 1, 7)\n",
    "        )\n",
    "        \n",
    "\n",
    "unittest.main(argv=[''], verbosity=2, exit=False)\n"
   ]
  }
 ],
 "metadata": {
  "kernelspec": {
   "display_name": "Python 3",
   "language": "python",
   "name": "python3"
  },
  "language_info": {
   "codemirror_mode": {
    "name": "ipython",
    "version": 3
   },
   "file_extension": ".py",
   "mimetype": "text/x-python",
   "name": "python",
   "nbconvert_exporter": "python",
   "pygments_lexer": "ipython3",
   "version": "3.7.4"
  }
 },
 "nbformat": 4,
 "nbformat_minor": 4
}
