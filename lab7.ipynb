{
 "cells": [
  {
   "cell_type": "markdown",
   "metadata": {},
   "source": [
    "# [Лабораторная работа #7](https://brestprog.by/topics/skeleton/)"
   ]
  },
  {
   "cell_type": "markdown",
   "metadata": {},
   "source": [
    "Есть N узлов, которые необходимо объединить в сеть. Известна стоимость прокладки  оптоволоконного кабеля между любой парой узлов. Требуется спроектировать связную сеть (сеть, между любыми узлами которой можно передать сигнал) минимальной стоимости.  Задачу реализовать 2-мя алгоритмами.\n"
   ]
  },
  {
   "cell_type": "code",
   "execution_count": 39,
   "metadata": {},
   "outputs": [],
   "source": [
    "from typing import List, Tuple\n",
    "from collections import namedtuple"
   ]
  },
  {
   "cell_type": "code",
   "execution_count": 42,
   "metadata": {},
   "outputs": [],
   "source": [
    "class Graph:\n",
    "    weights: List[List[float]]\n",
    "        \n",
    "    def __init__(self, vertices_num):\n",
    "        self.weights = [[float('inf') for _ in range(vertices_num)] for __ in range(vertices_num)]\n",
    "        \n",
    "    def get_num_vertices(self) -> int:\n",
    "        return len(self.weights)\n",
    "\n",
    "    def set_weight_between_vertices(self, vertex_1, vertex_2, weight) -> None:\n",
    "        self.weights[vertex_1-1][vertex_2-1] = weight\n",
    "        self.weights[vertex_2-1][vertex_1-1] = weight\n",
    "    \n",
    "    def get_weight_between_vertices(self, vertex_index_1: int, vertex_index_2: int) -> float:\n",
    "        return self.weights[vertex_index_1][vertex_index_2]\n",
    "    \n",
    "    def get_neighborhood(self, vertex_index: int):\n",
    "        return [\n",
    "            (adjacent_vertex_index, weight) \n",
    "                for adjacent_vertex_index, weight in enumerate(self.weights[vertex_index])\n",
    "                    if weight != float(\"inf\")\n",
    "        ]\n"
   ]
  },
  {
   "cell_type": "markdown",
   "metadata": {},
   "source": [
    "# Prim algorithm"
   ]
  },
  {
   "cell_type": "code",
   "execution_count": 43,
   "metadata": {},
   "outputs": [],
   "source": [
    "def find_start_vertex_for_prim(graph: Graph):\n",
    "    \"\"\"\n",
    "    this function finds vertex wich is incident to an edge with min weight\n",
    "    \"\"\"\n",
    "    min_vertex_index: int = None\n",
    "    min_weight: int = float('inf')\n",
    "    \n",
    "    for adjacent_vertex_index, adjacent_weights in enumerate(graph.weights):\n",
    "        if min(adjacent_weights) < min_weight:\n",
    "            min_vertex_index, min_weight = adjacent_vertex_index, min(adjacent_weights)\n",
    "    \n",
    "    return min_vertex_index\n"
   ]
  },
  {
   "cell_type": "code",
   "execution_count": 59,
   "metadata": {},
   "outputs": [],
   "source": [
    "def run_prim(graph: Graph):\n",
    "    \"\"\"\n",
    "    this function runs prim algorithm to the @param: graph\n",
    "    function returns edges of the @param: graph skeleton and weight of this skeleton\n",
    "    \"\"\"\n",
    "    skeleton_vertices: List[Tuple[int, int]] = []\n",
    "    skeleton_edges: List[Tuple[int, int]] = []\n",
    "    skeleton_weight: int = 0\n",
    "    que: List[Tuple[int, int], Tuple[int, int]] = []\n",
    "    # que: (vertex number, distance between vertex and skeleton) \n",
    "    #       and (edge between vertex and skeleton)\n",
    "    start_vertex_index: int = find_start_vertex_for_prim(graph)\n",
    "    que.append(((start_vertex_index, 0), (start_vertex_index, start_vertex_index)))\n",
    "    \n",
    "    while que:\n",
    "        # min distance to skeleton\n",
    "        current_pair, current_edge = min(que, key=lambda item: item[0][1])\n",
    "        que.remove(min(que, key=lambda item: item[0][1]))\n",
    "\n",
    "        vertex, distance_to_skeleton = current_pair\n",
    "        \n",
    "        if vertex in skeleton_vertices:\n",
    "            continue\n",
    "            \n",
    "        skeleton_vertices.append(vertex)\n",
    "        skeleton_edges.append(current_edge)\n",
    "        skeleton_weight += distance_to_skeleton\n",
    "        \n",
    "        for adjacent_pair in graph.get_neighborhood(vertex):\n",
    "            adjacent_vertex, adjacent_distance_to_skeleton = adjacent_pair\n",
    "            \n",
    "            if adjacent_vertex not in skeleton_vertices:\n",
    "                que.append(((adjacent_vertex, adjacent_distance_to_skeleton), (vertex, adjacent_vertex)))\n",
    "\n",
    "        \n",
    "    return skeleton_edges[1:], skeleton_weight\n",
    "        "
   ]
  },
  {
   "cell_type": "code",
   "execution_count": 60,
   "metadata": {},
   "outputs": [],
   "source": [
    "graph = Graph(10)\n",
    "graph.set_weight_between_vertices(1, 2, 2)\n",
    "graph.set_weight_between_vertices(1, 3, 3)\n",
    "graph.set_weight_between_vertices(1, 4, 4)\n",
    "graph.set_weight_between_vertices(2, 5, 4)\n",
    "graph.set_weight_between_vertices(2, 6, 5)\n",
    "graph.set_weight_between_vertices(2, 3, 3)\n",
    "graph.set_weight_between_vertices(3, 5, 1)\n",
    "graph.set_weight_between_vertices(3, 6, 6)\n",
    "graph.set_weight_between_vertices(3, 4, 1)\n",
    "graph.set_weight_between_vertices(4, 6, 5)\n",
    "graph.set_weight_between_vertices(4, 10, 3)\n",
    "graph.set_weight_between_vertices(5, 9, 7)\n",
    "graph.set_weight_between_vertices(5, 6, 2)\n",
    "graph.set_weight_between_vertices(6, 8, 6)\n",
    "graph.set_weight_between_vertices(6, 9, 1)\n",
    "graph.set_weight_between_vertices(6, 10, 4)\n",
    "graph.set_weight_between_vertices(6, 7, 2)\n",
    "graph.set_weight_between_vertices(7, 9, 8)\n",
    "graph.set_weight_between_vertices(7, 10, 1)\n",
    "graph.set_weight_between_vertices(8, 9, 5)\n",
    "graph.set_weight_between_vertices(8, 10, 3)\n",
    "graph.set_weight_between_vertices(9, 10, 4)"
   ]
  },
  {
   "cell_type": "code",
   "execution_count": 61,
   "metadata": {},
   "outputs": [],
   "source": [
    "skeleton_edges, skeleton_weight = run_prim(graph)"
   ]
  },
  {
   "cell_type": "code",
   "execution_count": 62,
   "metadata": {},
   "outputs": [
    {
     "data": {
      "text/plain": [
       "[(2, 3), (2, 4), (4, 5), (5, 8), (5, 6), (6, 9), (2, 0), (0, 1), (9, 7)]"
      ]
     },
     "execution_count": 62,
     "metadata": {},
     "output_type": "execute_result"
    }
   ],
   "source": [
    "skeleton_edges"
   ]
  },
  {
   "cell_type": "code",
   "execution_count": 63,
   "metadata": {},
   "outputs": [
    {
     "data": {
      "text/plain": [
       "16"
      ]
     },
     "execution_count": 63,
     "metadata": {},
     "output_type": "execute_result"
    }
   ],
   "source": [
    "skeleton_weight"
   ]
  },
  {
   "cell_type": "markdown",
   "metadata": {},
   "source": [
    "# Kruskal algorithm"
   ]
  },
  {
   "cell_type": "code",
   "execution_count": 64,
   "metadata": {},
   "outputs": [],
   "source": [
    "first_connectivity_component = [None for _ in range(10)]\n",
    "second_connectivity_component = [None for _ in range(10)]"
   ]
  },
  {
   "cell_type": "code",
   "execution_count": 65,
   "metadata": {},
   "outputs": [],
   "source": [
    "def init_components(first_component, second_component) -> None:\n",
    "    for i in range(10):\n",
    "        first_component[i] = i\n",
    "        second_component[i] = 0\n"
   ]
  },
  {
   "cell_type": "code",
   "execution_count": 66,
   "metadata": {},
   "outputs": [],
   "source": [
    "def get_root(v: int, first_component: list) -> int:\n",
    "    if first_component[v] == v:\n",
    "        return v\n",
    "    else:\n",
    "        first_component[v] = get_root(first_component[v], first_component)\n",
    "        return first_component[v]  # На выходе из рекурсии переподвешиваем v"
   ]
  },
  {
   "cell_type": "code",
   "execution_count": 67,
   "metadata": {},
   "outputs": [],
   "source": [
    "def merge(a: int, b: int, first_component: list, second_component: list) -> bool:\n",
    "    firt_root: int = get_root(a, first_component)\n",
    "    second_root: int = get_root(b, first_component)\n",
    "\n",
    "    if firt_root == second_root:\n",
    "        return False\n",
    "    else:\n",
    "        if second_connectivity_component[firt_root] < second_component[second_root]:\n",
    "            first_component[firt_root] = second_root\n",
    "        elif second_connectivity_component[second_root] < second_component[firt_root]:\n",
    "            first_component[second_root] = firt_root\n",
    "        else:\n",
    "            first_component[firt_root] = second_root\n",
    "            second_component[second_root] += 1\n",
    "        \n",
    "\n",
    "        return True"
   ]
  },
  {
   "cell_type": "code",
   "execution_count": 68,
   "metadata": {},
   "outputs": [],
   "source": [
    "import functools"
   ]
  },
  {
   "cell_type": "code",
   "execution_count": 84,
   "metadata": {},
   "outputs": [],
   "source": [
    "@functools.total_ordering\n",
    "class Edge:\n",
    "    \n",
    "    def __init__(self, a, b, length=None):\n",
    "        self.a = a-1\n",
    "        self.b = b-1\n",
    "        self.length = length\n",
    "        \n",
    "    def __lt__(self, other):\n",
    "        return self.length < other.length\n",
    "    \n",
    "    def __eq__(self, other):\n",
    "        return self.length == other.length\n",
    "    \n",
    "    def __str__(self):\n",
    "        return f'<a:{self.a+1} b:{self.b+1}>'\n",
    "    \n",
    "    def __repr__(self):\n",
    "        return f'<a:{self.a+1} b:{self.b+1}>'"
   ]
  },
  {
   "cell_type": "code",
   "execution_count": 70,
   "metadata": {},
   "outputs": [],
   "source": [
    "edges = []\n",
    "edges.append(Edge(1, 2, 2))\n",
    "edges.append(Edge(1, 3, 3))\n",
    "edges.append(Edge(1, 4, 4))\n",
    "edges.append(Edge(2, 5, 4))\n",
    "edges.append(Edge(2, 6, 5))\n",
    "edges.append(Edge(2, 3, 3))\n",
    "edges.append(Edge(3, 5, 1))\n",
    "edges.append(Edge(3, 6, 6))\n",
    "edges.append(Edge(3, 4, 1))\n",
    "edges.append(Edge(4, 6, 5))\n",
    "edges.append(Edge(4, 10, 3))\n",
    "edges.append(Edge(5, 9, 7))\n",
    "edges.append(Edge(5, 6, 2))\n",
    "edges.append(Edge(6, 8, 6))\n",
    "edges.append(Edge(6, 9, 1))\n",
    "edges.append(Edge(6, 10, 4))\n",
    "edges.append(Edge(6, 7, 2))\n",
    "edges.append(Edge(7, 9, 8))\n",
    "edges.append(Edge(7, 10, 1))\n",
    "edges.append(Edge(8, 9, 5))\n",
    "edges.append(Edge(8, 10, 3))\n",
    "edges.append(Edge(9, 10, 4))"
   ]
  },
  {
   "cell_type": "code",
   "execution_count": 75,
   "metadata": {},
   "outputs": [],
   "source": [
    "def run_kruscal(edges: List[Edge], first_component: list, second_component: list):\n",
    "    skeleton_weight: int = 0\n",
    "    skeleton: list = []\n",
    "\n",
    "    edges.sort()\n",
    "    init_components(first_component, second_component)\n",
    "    for edge in edges:\n",
    "        if merge(edge.a, edge.b, first_component, second_component):\n",
    "            skeleton.append(edge)\n",
    "            skeleton_weight += edge.length\n",
    "    return skeleton"
   ]
  },
  {
   "cell_type": "code",
   "execution_count": 81,
   "metadata": {},
   "outputs": [
    {
     "data": {
      "text/plain": [
       "[<a:3 b:5>,\n",
       " <a:3 b:4>,\n",
       " <a:6 b:9>,\n",
       " <a:7 b:10>,\n",
       " <a:1 b:2>,\n",
       " <a:5 b:6>,\n",
       " <a:6 b:7>,\n",
       " <a:1 b:3>,\n",
       " <a:8 b:10>]"
      ]
     },
     "execution_count": 81,
     "metadata": {},
     "output_type": "execute_result"
    }
   ],
   "source": [
    "run_kruscal(edges, first_connectivity_component, second_connectivity_component)"
   ]
  },
  {
   "cell_type": "markdown",
   "metadata": {},
   "source": [
    "# Тесты"
   ]
  },
  {
   "cell_type": "code",
   "execution_count": 34,
   "metadata": {},
   "outputs": [],
   "source": [
    "import unittest"
   ]
  },
  {
   "cell_type": "code",
   "execution_count": 86,
   "metadata": {},
   "outputs": [
    {
     "name": "stderr",
     "output_type": "stream",
     "text": [
      "test_run_cruscal (__main__.TestGraph) ... ok\n",
      "test_run_prim (__main__.TestGraph) ... ok\n",
      "\n",
      "----------------------------------------------------------------------\n",
      "Ran 2 tests in 0.011s\n",
      "\n",
      "OK\n"
     ]
    },
    {
     "data": {
      "text/plain": [
       "<unittest.main.TestProgram at 0x2145b8ba0c8>"
      ]
     },
     "execution_count": 86,
     "metadata": {},
     "output_type": "execute_result"
    }
   ],
   "source": [
    "class TestGraph(unittest.TestCase):\n",
    "\n",
    "    def setUp(self):\n",
    "        self.graph_a = Graph(10)\n",
    "        self.graph_a.set_weight_between_vertices(1, 2, 2)\n",
    "        self.graph_a.set_weight_between_vertices(1, 3, 3)\n",
    "        self.graph_a.set_weight_between_vertices(1, 4, 4)\n",
    "        self.graph_a.set_weight_between_vertices(2, 5, 4)\n",
    "        self.graph_a.set_weight_between_vertices(2, 6, 5)\n",
    "        self.graph_a.set_weight_between_vertices(2, 3, 3)\n",
    "        self.graph_a.set_weight_between_vertices(3, 5, 1)\n",
    "        self.graph_a.set_weight_between_vertices(3, 6, 6)\n",
    "        self.graph_a.set_weight_between_vertices(3, 4, 1)\n",
    "        self.graph_a.set_weight_between_vertices(4, 6, 5)\n",
    "        self.graph_a.set_weight_between_vertices(4, 10, 3)\n",
    "        self.graph_a.set_weight_between_vertices(5, 9, 7)\n",
    "        self.graph_a.set_weight_between_vertices(5, 6, 2)\n",
    "        self.graph_a.set_weight_between_vertices(6, 8, 6)\n",
    "        self.graph_a.set_weight_between_vertices(6, 9, 1)\n",
    "        self.graph_a.set_weight_between_vertices(6, 10, 4)\n",
    "        self.graph_a.set_weight_between_vertices(6, 7, 2)\n",
    "        self.graph_a.set_weight_between_vertices(7, 9, 8)\n",
    "        self.graph_a.set_weight_between_vertices(7, 10, 1)\n",
    "        self.graph_a.set_weight_between_vertices(8, 9, 5)\n",
    "        self.graph_a.set_weight_between_vertices(8, 10, 3)\n",
    "        self.graph_a.set_weight_between_vertices(9, 10, 4)\n",
    "        \n",
    "        self.edges = []\n",
    "        self.edges.append(Edge(1, 2, 2))\n",
    "        self.edges.append(Edge(1, 3, 3))\n",
    "        self.edges.append(Edge(1, 4, 4))\n",
    "        self.edges.append(Edge(2, 5, 4))\n",
    "        self.edges.append(Edge(2, 6, 5))\n",
    "        self.edges.append(Edge(2, 3, 3))\n",
    "        self.edges.append(Edge(3, 5, 1))\n",
    "        self.edges.append(Edge(3, 6, 6))\n",
    "        self.edges.append(Edge(3, 4, 1))\n",
    "        self.edges.append(Edge(4, 6, 5))\n",
    "        self.edges.append(Edge(4, 10, 3))\n",
    "        self.edges.append(Edge(5, 9, 7))\n",
    "        self.edges.append(Edge(5, 6, 2))\n",
    "        self.edges.append(Edge(6, 8, 6))\n",
    "        self.edges.append(Edge(6, 9, 1))\n",
    "        self.edges.append(Edge(6, 10, 4))\n",
    "        self.edges.append(Edge(6, 7, 2))\n",
    "        self.edges.append(Edge(7, 9, 8))\n",
    "        self.edges.append(Edge(7, 10, 1))\n",
    "        self.edges.append(Edge(8, 9, 5))\n",
    "        self.edges.append(Edge(8, 10, 3))\n",
    "        self.edges.append(Edge(9, 10, 4))\n",
    "        \n",
    "        self.first_connectivity_component = [None for _ in range(10)]\n",
    "        self.second_connectivity_component = [None for _ in range(10)]\n",
    "        \n",
    "        \n",
    "    def test_run_prim(self):\n",
    "        self.assertEqual(\n",
    "            run_prim(self.graph_a),\n",
    "            (\n",
    "                [(2, 3), (2, 4), (4, 5), (5, 8), (5, 6), (6, 9), (2, 0), (0, 1), (9, 7)],\n",
    "                16\n",
    "            )\n",
    "        )\n",
    "        \n",
    "    def test_run_cruscal(self):\n",
    "        self.assertEqual(\n",
    "            run_kruscal(self.edges, self.first_connectivity_component, self.second_connectivity_component),\n",
    "            [\n",
    "                Edge(3, 5, 1),\n",
    "                Edge(3, 4, 1),\n",
    "                Edge(6, 9, 1),\n",
    "                Edge(7, 10, 1),\n",
    "                Edge(1, 2, 2),\n",
    "                Edge(5, 6, 2),\n",
    "                Edge(6, 7, 2),\n",
    "                Edge(1, 3, 3),\n",
    "                Edge(8, 10, 3)\n",
    "            ]\n",
    "        )\n",
    "        \n",
    "\n",
    "unittest.main(argv=[''], verbosity=2, exit=False)\n"
   ]
  }
 ],
 "metadata": {
  "kernelspec": {
   "display_name": "Python 3",
   "language": "python",
   "name": "python3"
  },
  "language_info": {
   "codemirror_mode": {
    "name": "ipython",
    "version": 3
   },
   "file_extension": ".py",
   "mimetype": "text/x-python",
   "name": "python",
   "nbconvert_exporter": "python",
   "pygments_lexer": "ipython3",
   "version": "3.7.4"
  }
 },
 "nbformat": 4,
 "nbformat_minor": 4
}
